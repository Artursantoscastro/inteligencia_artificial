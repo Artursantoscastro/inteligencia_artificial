{
 "cells": [
  {
   "cell_type": "code",
   "execution_count": null,
   "metadata": {},
   "outputs": [],
   "source": [
    "inteligencia artificial\n"
   ]
  },
  {
   "cell_type": "code",
   "execution_count": null,
   "metadata": {},
   "outputs": [],
   "source": [
    "- Inteligencia Artificial é a imitação da vida\n",
    "- 1950: os primeiros computadores construido a história da IA\n",
    "- Inverno da IA: empolgação seguido por uma desilusão \n",
    "- IA baseada em lógica foi perdendo espaço para uma IA baseada em dados e estastística\n",
    "- Machine learning aplica ao comércio \n",
    "- Redes neurais, big data (cloud computer e databricks)\n",
    "- \"Maquina Viva\" : mitologia, grecia antiga, china\n",
    "- XVII: Dispositivos \"Automatos\"\n",
    "- Filosofos- pensamento humano pode ser simulado por simbulos\n",
    "- Alan turing (1912-1954): teste máquina de turing (máquina tem ou não tem inteligência similar a humana)\n",
    "- Quem você considera ser inteligênte: \n",
    "-linguística\n",
    "-Artística\n",
    "-Numerica\n",
    "-Sensorial\n",
    "-Espacial\n",
    "-Emocional\n",
    "-Física\n",
    "-Reflexiva\n",
    "\"eu sei que sou inteligente porque sei que nada sei\" Socrátes"
   ]
  },
  {
   "cell_type": "code",
   "execution_count": null,
   "metadata": {},
   "outputs": [],
   "source": [
    "## Data driven "
   ]
  },
  {
   "cell_type": "markdown",
   "metadata": {},
   "source": [
    "- Uma empresa orientada a dados\n",
    "- Vocês já possuem dados, mas utilizados em uma visão Data Driven:\n",
    "- Netflix\n",
    "- Spotfy\n",
    "- Wall Mart "
   ]
  },
  {
   "cell_type": "code",
   "execution_count": null,
   "metadata": {},
   "outputs": [],
   "source": []
  },
  {
   "cell_type": "code",
   "execution_count": null,
   "metadata": {},
   "outputs": [],
   "source": [
    "import "
   ]
  }
 ],
 "metadata": {
  "language_info": {
   "name": "python"
  }
 },
 "nbformat": 4,
 "nbformat_minor": 2
}
